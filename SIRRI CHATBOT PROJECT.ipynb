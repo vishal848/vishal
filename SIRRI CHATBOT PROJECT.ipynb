{
 "cells": [
  {
   "cell_type": "code",
   "execution_count": 1,
   "metadata": {},
   "outputs": [
    {
     "name": "stdout",
     "output_type": "stream",
     "text": [
      "Requirement already satisfied: SpeechRecognition in c:\\users\\w10\\anaconda3\\lib\\site-packages (3.8.1)\n",
      "Note: you may need to restart the kernel to use updated packages.\n"
     ]
    }
   ],
   "source": [
    "pip install SpeechRecognition"
   ]
  },
  {
   "cell_type": "code",
   "execution_count": 2,
   "metadata": {},
   "outputs": [
    {
     "name": "stdout",
     "output_type": "stream",
     "text": [
      "Requirement already satisfied: pyttsx3 in c:\\users\\w10\\anaconda3\\lib\\site-packages (2.90)\n",
      "Requirement already satisfied: comtypes; platform_system == \"Windows\" in c:\\users\\w10\\anaconda3\\lib\\site-packages (from pyttsx3) (1.1.7)\n",
      "Requirement already satisfied: pypiwin32; platform_system == \"Windows\" in c:\\users\\w10\\anaconda3\\lib\\site-packages (from pyttsx3) (223)\n",
      "Requirement already satisfied: pywin32; platform_system == \"Windows\" in c:\\users\\w10\\anaconda3\\lib\\site-packages (from pyttsx3) (223)\n",
      "Note: you may need to restart the kernel to use updated packages.\n"
     ]
    }
   ],
   "source": [
    "pip install pyttsx3"
   ]
  },
  {
   "cell_type": "code",
   "execution_count": 3,
   "metadata": {},
   "outputs": [
    {
     "name": "stdout",
     "output_type": "stream",
     "text": [
      "Requirement already satisfied: wikipedia in c:\\users\\w10\\anaconda3\\lib\\site-packages (1.4.0)\n",
      "Requirement already satisfied: requests<3.0.0,>=2.0.0 in c:\\users\\w10\\anaconda3\\lib\\site-packages (from wikipedia) (2.22.0)\n",
      "Requirement already satisfied: beautifulsoup4 in c:\\users\\w10\\anaconda3\\lib\\site-packages (from wikipedia) (4.8.0)\n",
      "Requirement already satisfied: urllib3!=1.25.0,!=1.25.1,<1.26,>=1.21.1 in c:\\users\\w10\\anaconda3\\lib\\site-packages (from requests<3.0.0,>=2.0.0->wikipedia) (1.24.2)\n",
      "Requirement already satisfied: certifi>=2017.4.17 in c:\\users\\w10\\anaconda3\\lib\\site-packages (from requests<3.0.0,>=2.0.0->wikipedia) (2019.9.11)\n",
      "Requirement already satisfied: chardet<3.1.0,>=3.0.2 in c:\\users\\w10\\anaconda3\\lib\\site-packages (from requests<3.0.0,>=2.0.0->wikipedia) (3.0.4)\n",
      "Requirement already satisfied: idna<2.9,>=2.5 in c:\\users\\w10\\anaconda3\\lib\\site-packages (from requests<3.0.0,>=2.0.0->wikipedia) (2.8)\n",
      "Requirement already satisfied: soupsieve>=1.2 in c:\\users\\w10\\anaconda3\\lib\\site-packages (from beautifulsoup4->wikipedia) (1.9.3)\n",
      "Note: you may need to restart the kernel to use updated packages.\n"
     ]
    }
   ],
   "source": [
    "pip install wikipedia"
   ]
  },
  {
   "cell_type": "code",
   "execution_count": 4,
   "metadata": {},
   "outputs": [
    {
     "name": "stdout",
     "output_type": "stream",
     "text": [
      "Requirement already satisfied: wolframalpha in c:\\users\\w10\\anaconda3\\lib\\site-packages (4.0.0)\n",
      "Requirement already satisfied: jaraco.itertools>=2.0 in c:\\users\\w10\\anaconda3\\lib\\site-packages (from wolframalpha) (5.0.0)\n",
      "Requirement already satisfied: six in c:\\users\\w10\\anaconda3\\lib\\site-packages (from wolframalpha) (1.12.0)\n",
      "Requirement already satisfied: xmltodict in c:\\users\\w10\\anaconda3\\lib\\site-packages (from wolframalpha) (0.12.0)\n",
      "Requirement already satisfied: inflect in c:\\users\\w10\\anaconda3\\lib\\site-packages (from jaraco.itertools>=2.0->wolframalpha) (4.1.0)\n",
      "Requirement already satisfied: more-itertools>=4.0.0 in c:\\users\\w10\\anaconda3\\lib\\site-packages (from jaraco.itertools>=2.0->wolframalpha) (7.2.0)\n",
      "Requirement already satisfied: importlib-metadata; python_version < \"3.8\" in c:\\users\\w10\\anaconda3\\lib\\site-packages (from inflect->jaraco.itertools>=2.0->wolframalpha) (0.23)\n",
      "Requirement already satisfied: zipp>=0.5 in c:\\users\\w10\\anaconda3\\lib\\site-packages (from importlib-metadata; python_version < \"3.8\"->inflect->jaraco.itertools>=2.0->wolframalpha) (0.6.0)\n",
      "Note: you may need to restart the kernel to use updated packages.\n"
     ]
    }
   ],
   "source": [
    "pip install wolframalpha"
   ]
  },
  {
   "cell_type": "code",
   "execution_count": 5,
   "metadata": {},
   "outputs": [],
   "source": [
    "import pyttsx3\n",
    "import webbrowser\n",
    "import smtplib\n",
    "import random\n",
    "import speech_recognition as sr\n",
    "import wikipedia\n",
    "import datetime\n",
    "import wolframalpha\n",
    "import os\n",
    "import sys"
   ]
  },
  {
   "cell_type": "code",
   "execution_count": 6,
   "metadata": {},
   "outputs": [],
   "source": [
    "engine = pyttsx3.init('sapi5')"
   ]
  },
  {
   "cell_type": "code",
   "execution_count": 7,
   "metadata": {},
   "outputs": [],
   "source": [
    "client = wolframalpha.Client('Your_App_ID')"
   ]
  },
  {
   "cell_type": "code",
   "execution_count": 8,
   "metadata": {},
   "outputs": [],
   "source": [
    "voices = engine.getProperty('voices')"
   ]
  },
  {
   "cell_type": "code",
   "execution_count": 9,
   "metadata": {},
   "outputs": [],
   "source": [
    "engine.setProperty('voice', voices[len(voices)-1].id)"
   ]
  },
  {
   "cell_type": "code",
   "execution_count": 10,
   "metadata": {},
   "outputs": [],
   "source": [
    "def speak(audio):\n",
    "    print('Computer: ' + audio)\n",
    "    engine.say(audio)\n",
    "    engine.runAndWait()"
   ]
  },
  {
   "cell_type": "code",
   "execution_count": 11,
   "metadata": {},
   "outputs": [],
   "source": [
    "def greetMe():\n",
    "    currentH = int(datetime.datetime.now().hour)\n",
    "    if currentH >= 0 and currentH < 12:\n",
    "        speak('Good Morning!')\n",
    "\n",
    "    if currentH >= 12 and currentH < 18:\n",
    "        speak('Good Afternoon!')\n",
    "\n",
    "    if currentH >= 18 and currentH !=0:\n",
    "        speak('Good Evening!')"
   ]
  },
  {
   "cell_type": "code",
   "execution_count": 12,
   "metadata": {},
   "outputs": [
    {
     "name": "stdout",
     "output_type": "stream",
     "text": [
      "Computer: Good Evening!\n"
     ]
    }
   ],
   "source": [
    "greetMe()"
   ]
  },
  {
   "cell_type": "code",
   "execution_count": 13,
   "metadata": {},
   "outputs": [
    {
     "name": "stdout",
     "output_type": "stream",
     "text": [
      "Computer: Hello Sir, I am your digital assistant SIRRI the Lady Jarvis!\n"
     ]
    }
   ],
   "source": [
    "speak('Hello Sir, I am your digital assistant SIRRI the Lady Jarvis!')"
   ]
  },
  {
   "cell_type": "code",
   "execution_count": 14,
   "metadata": {},
   "outputs": [
    {
     "name": "stdout",
     "output_type": "stream",
     "text": [
      "Computer: How may I help you?\n"
     ]
    }
   ],
   "source": [
    "speak('How may I help you?')"
   ]
  },
  {
   "cell_type": "code",
   "execution_count": 15,
   "metadata": {},
   "outputs": [],
   "source": [
    "def myCommand():\n",
    "   \n",
    "    r = sr.Recognizer()                                                                                   \n",
    "    with sr.Microphone() as source:                                                                       \n",
    "        print(\"Listening...\")\n",
    "        r.pause_threshold =  1\n",
    "        audio = r.listen(source)\n",
    "    try:\n",
    "        query = r.recognize_google(audio, language='en-in')\n",
    "        print('User: ' + query + '\\n')\n",
    "        \n",
    "    except sr.UnknownValueError:\n",
    "        speak('Sorry sir! I didn\\'t get that! Try typing the command!')\n",
    "        query = str(input('Command: '))\n",
    "\n",
    "    return query"
   ]
  },
  {
   "cell_type": "code",
   "execution_count": 16,
   "metadata": {},
   "outputs": [
    {
     "name": "stdout",
     "output_type": "stream",
     "text": [
      "Collecting package metadata (current_repodata.json): ...working... done\n",
      "Solving environment: ...working... done\n",
      "\n",
      "# All requested packages already installed.\n",
      "\n",
      "\n",
      "Note: you may need to restart the kernel to use updated packages.\n"
     ]
    }
   ],
   "source": [
    "conda install -c anaconda pyaudio"
   ]
  },
  {
   "cell_type": "code",
   "execution_count": 17,
   "metadata": {},
   "outputs": [
    {
     "name": "stdout",
     "output_type": "stream",
     "text": [
      "Listening...\n",
      "User: open YouTube\n",
      "\n",
      "Computer: okay\n",
      "Computer: Next Command! Sir!\n",
      "Listening...\n",
      "User: open Google\n",
      "\n",
      "Computer: okay\n",
      "Computer: Next Command! Sir!\n",
      "Listening...\n",
      "User: who are you\n",
      "\n",
      "Computer: Searching...\n",
      "Computer: Got it.\n",
      "Computer: WIKIPEDIA says - \n",
      "Computer: Who Are You is the eighth studio album by English rock band the Who, released on 18 August 1978 by Polydor Records in the United Kingdom and MCA Records in the United States. The album received mixed reviews from critics, though it was a commercial success, peaking at number 2 on the US charts and number 6 on the UK charts.Who Are You was the Who's last album to feature Keith Moon as their drummer, who died three weeks after it was released.\n",
      "Computer: Next Command! Sir!\n",
      "Listening...\n",
      "User: about yourself\n",
      "\n",
      "Computer: Searching...\n",
      "Computer: Got it.\n",
      "Computer: WIKIPEDIA says - \n",
      "Computer: Tell Me All About Yourself is an album by Nat King Cole that was released in 1960. It was arranged by Dave Cavanaugh.\n",
      "Computer: Next Command! Sir!\n",
      "Listening...\n",
      "User: what's your name\n",
      "\n",
      "Computer: Searching...\n"
     ]
    },
    {
     "name": "stderr",
     "output_type": "stream",
     "text": [
      "C:\\Users\\w10\\Anaconda3\\lib\\site-packages\\wikipedia\\wikipedia.py:389: UserWarning: No parser was explicitly specified, so I'm using the best available HTML parser for this system (\"lxml\"). This usually isn't a problem, but if you run this code on another system, or in a different virtual environment, it may use a different parser and behave differently.\n",
      "\n",
      "The code that caused this warning is on line 389 of the file C:\\Users\\w10\\Anaconda3\\lib\\site-packages\\wikipedia\\wikipedia.py. To get rid of this warning, pass the additional argument 'features=\"lxml\"' to the BeautifulSoup constructor.\n",
      "\n",
      "  lis = BeautifulSoup(html).find_all('li')\n"
     ]
    },
    {
     "name": "stdout",
     "output_type": "stream",
     "text": [
      "Computer: Next Command! Sir!\n",
      "Listening...\n",
      "User: what's your name\n",
      "\n",
      "Computer: Searching...\n",
      "Computer: Next Command! Sir!\n",
      "Listening...\n",
      "User: what is your name\n",
      "\n",
      "Computer: Searching...\n",
      "Computer: Got it.\n",
      "Computer: WIKIPEDIA says - \n",
      "Computer: Your Name. (Japanese: 君の名は。\n",
      "Computer: Next Command! Sir!\n",
      "Listening...\n",
      "User: video mein open ok bye\n",
      "\n",
      "Computer: Bye Sir, have a good day.\n"
     ]
    },
    {
     "ename": "SystemExit",
     "evalue": "",
     "output_type": "error",
     "traceback": [
      "An exception has occurred, use %tb to see the full traceback.\n",
      "\u001b[1;31mSystemExit\u001b[0m\n"
     ]
    },
    {
     "name": "stderr",
     "output_type": "stream",
     "text": [
      "C:\\Users\\w10\\Anaconda3\\lib\\site-packages\\IPython\\core\\interactiveshell.py:3334: UserWarning: To exit: use 'exit', 'quit', or Ctrl-D.\n",
      "  warn(\"To exit: use 'exit', 'quit', or Ctrl-D.\", stacklevel=1)\n"
     ]
    }
   ],
   "source": [
    "if __name__ == '__main__':\n",
    "\n",
    "    while True:\n",
    "    \n",
    "        query = myCommand();\n",
    "        query = query.lower()\n",
    "        \n",
    "        \n",
    "        if 'open youtube' in query:\n",
    "            speak('okay')\n",
    "            webbrowser.open('www.youtube.com')\n",
    "\n",
    "        elif 'open google' in query:\n",
    "            speak('okay')\n",
    "            webbrowser.open('www.google.co.in')\n",
    "\n",
    "        elif 'open gmail' in query:\n",
    "            speak('okay')\n",
    "            webbrowser.open('www.gmail.com')\n",
    "\n",
    "        elif \"what\\'s up\" in query or 'how are you' in query:\n",
    "            stMsgs = ['Just doing my thing!', 'I am fine!', 'Nice!', 'I am nice and full of energy']\n",
    "            speak(random.choice(stMsgs))\n",
    "\n",
    "        elif 'email' in query:\n",
    "            speak('Who is the recipient? ')\n",
    "            recipient = myCommand()\n",
    "\n",
    "            if 'me' in recipient:\n",
    "                try:\n",
    "                    speak('What should I say? ')\n",
    "                    content = myCommand()\n",
    "        \n",
    "                    server = smtplib.SMTP('smtp.gmail.com', 587)\n",
    "                    server.ehlo()\n",
    "                    server.starttls()\n",
    "                    server.login(\"Your_Username\", 'Your_Password')\n",
    "                    server.sendmail('Your_Username', \"Recipient_Username\", content)\n",
    "                    server.close()\n",
    "                    speak('Email sent!')\n",
    "\n",
    "                except:\n",
    "                    speak('Sorry Sir! I am unable to send your message at this moment!')\n",
    "\n",
    "\n",
    "        elif 'nothing' in query or 'abort' in query or 'stop' in query:\n",
    "            speak('okay')\n",
    "            speak('Bye Sir, have a good day.')\n",
    "            sys.exit()\n",
    "           \n",
    "        elif 'hello' in query:\n",
    "            speak('Hello Sir')\n",
    "\n",
    "        elif 'bye' in query:\n",
    "            speak('Bye Sir, have a good day.')\n",
    "            sys.exit()\n",
    "                                    \n",
    "        elif 'play music' in query:\n",
    "            music_folder = Your_music_folder_path\n",
    "            music = [music1, music2, music3, music4, music5]\n",
    "            random_music = music_folder + random.choice(music) + '.mp3'\n",
    "            os.system(random_music)\n",
    "                  \n",
    "            speak('Okay, here is your music! Enjoy!')\n",
    "            \n",
    "\n",
    "        else:\n",
    "            query = query\n",
    "            speak('Searching...')\n",
    "            try:\n",
    "                try:\n",
    "                    res = client.query(query)\n",
    "                    results = next(res.results).text\n",
    "                    speak('WOLFRAM-ALPHA says - ')\n",
    "                    speak('Got it.')\n",
    "                    speak(results)\n",
    "                    \n",
    "                except:\n",
    "                    results = wikipedia.summary(query, sentences=2)\n",
    "                    speak('Got it.')\n",
    "                    speak('WIKIPEDIA says - ')\n",
    "                    speak(results)\n",
    "        \n",
    "            except:\n",
    "                webbrowser.open('www.google.com')\n",
    "        \n",
    "        speak('Next Command! Sir!')"
   ]
  },
  {
   "cell_type": "code",
   "execution_count": null,
   "metadata": {},
   "outputs": [],
   "source": []
  },
  {
   "cell_type": "code",
   "execution_count": null,
   "metadata": {},
   "outputs": [],
   "source": []
  }
 ],
 "metadata": {
  "kernelspec": {
   "display_name": "Python 3",
   "language": "python",
   "name": "python3"
  },
  "language_info": {
   "codemirror_mode": {
    "name": "ipython",
    "version": 3
   },
   "file_extension": ".py",
   "mimetype": "text/x-python",
   "name": "python",
   "nbconvert_exporter": "python",
   "pygments_lexer": "ipython3",
   "version": "3.7.4"
  }
 },
 "nbformat": 4,
 "nbformat_minor": 4
}
