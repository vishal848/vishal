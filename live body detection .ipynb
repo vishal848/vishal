{
 "cells": [
  {
   "cell_type": "code",
   "execution_count": 2,
   "metadata": {},
   "outputs": [
    {
     "name": "stdout",
     "output_type": "stream",
     "text": [
      "Collecting opencv-python\n",
      "Note: you may need to restart the kernel to use updated packages.\n",
      "  Downloading opencv_python-4.4.0.42-cp38-cp38-win_amd64.whl (33.5 MB)\n",
      "Requirement already satisfied: numpy>=1.17.3 in c:\\programdata\\anaconda3\\lib\\site-packages (from opencv-python) (1.18.5)\n",
      "Installing collected packages: opencv-python\n",
      "Successfully installed opencv-python-4.4.0.42\n"
     ]
    }
   ],
   "source": [
    "pip install opencv-python"
   ]
  },
  {
   "cell_type": "code",
   "execution_count": 48,
   "metadata": {},
   "outputs": [],
   "source": [
    "import cv2\n",
    "import numpy as np"
   ]
  },
  {
   "cell_type": "code",
   "execution_count": 49,
   "metadata": {},
   "outputs": [],
   "source": [
    "image = (np.random.standard_normal([200,200,3]) * 255).astype(np.uint8)"
   ]
  },
  {
   "cell_type": "code",
   "execution_count": 50,
   "metadata": {},
   "outputs": [],
   "source": [
    "gray = cv2.cvtColor(image, cv2.COLOR_BGR2GRAY)"
   ]
  },
  {
   "cell_type": "code",
   "execution_count": 51,
   "metadata": {},
   "outputs": [],
   "source": [
    "gray_three = cv2.merge([gray,gray,gray])"
   ]
  },
  {
   "cell_type": "code",
   "execution_count": 52,
   "metadata": {},
   "outputs": [
    {
     "data": {
      "text/plain": [
       "array([[[126, 126, 126],\n",
       "        [105, 105, 105],\n",
       "        [176, 176, 176],\n",
       "        ...,\n",
       "        [ 83,  83,  83],\n",
       "        [167, 167, 167],\n",
       "        [142, 142, 142]],\n",
       "\n",
       "       [[189, 189, 189],\n",
       "        [ 63,  63,  63],\n",
       "        [127, 127, 127],\n",
       "        ...,\n",
       "        [143, 143, 143],\n",
       "        [204, 204, 204],\n",
       "        [ 72,  72,  72]],\n",
       "\n",
       "       [[ 76,  76,  76],\n",
       "        [184, 184, 184],\n",
       "        [109, 109, 109],\n",
       "        ...,\n",
       "        [111, 111, 111],\n",
       "        [133, 133, 133],\n",
       "        [123, 123, 123]],\n",
       "\n",
       "       ...,\n",
       "\n",
       "       [[ 45,  45,  45],\n",
       "        [ 87,  87,  87],\n",
       "        [110, 110, 110],\n",
       "        ...,\n",
       "        [152, 152, 152],\n",
       "        [117, 117, 117],\n",
       "        [ 93,  93,  93]],\n",
       "\n",
       "       [[ 84,  84,  84],\n",
       "        [130, 130, 130],\n",
       "        [135, 135, 135],\n",
       "        ...,\n",
       "        [198, 198, 198],\n",
       "        [107, 107, 107],\n",
       "        [161, 161, 161]],\n",
       "\n",
       "       [[ 40,  40,  40],\n",
       "        [115, 115, 115],\n",
       "        [178, 178, 178],\n",
       "        ...,\n",
       "        [138, 138, 138],\n",
       "        [ 29,  29,  29],\n",
       "        [131, 131, 131]]], dtype=uint8)"
      ]
     },
     "execution_count": 52,
     "metadata": {},
     "output_type": "execute_result"
    }
   ],
   "source": [
    "contour = np.array([[10,10], [190, 10], [190, 80], [10, 80]])\n",
    "cv2.fillPoly(gray, [contour], [36,255,12])\n",
    "cv2.fillPoly(gray_three, [contour], [36,255,12])"
   ]
  },
  {
   "cell_type": "code",
   "execution_count": 53,
   "metadata": {},
   "outputs": [
    {
     "data": {
      "text/plain": [
       "-1"
      ]
     },
     "execution_count": 53,
     "metadata": {},
     "output_type": "execute_result"
    }
   ],
   "source": [
    "cv2.imshow('image', image)\n",
    "cv2.imshow('gray', gray)\n",
    "cv2.imshow('gray_three', gray_three)\n",
    "cv2.waitKey()"
   ]
  },
  {
   "cell_type": "code",
   "execution_count": null,
   "metadata": {},
   "outputs": [],
   "source": []
  }
 ],
 "metadata": {
  "kernelspec": {
   "display_name": "Python 3",
   "language": "python",
   "name": "python3"
  },
  "language_info": {
   "codemirror_mode": {
    "name": "ipython",
    "version": 3
   },
   "file_extension": ".py",
   "mimetype": "text/x-python",
   "name": "python",
   "nbconvert_exporter": "python",
   "pygments_lexer": "ipython3",
   "version": "3.8.3"
  }
 },
 "nbformat": 4,
 "nbformat_minor": 4
}
