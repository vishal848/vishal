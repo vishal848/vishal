{
 "cells": [
  {
   "cell_type": "code",
   "execution_count": 1,
   "metadata": {},
   "outputs": [
    {
     "name": "stdout",
     "output_type": "stream",
     "text": [
      "Collecting gtts\n",
      "  Downloading gTTS-2.1.1-py3-none-any.whl (25 kB)\n",
      "Requirement already satisfied: beautifulsoup4 in c:\\users\\w10\\anaconda3\\lib\\site-packages (from gtts) (4.8.0)\n",
      "Requirement already satisfied: click in c:\\users\\w10\\anaconda3\\lib\\site-packages (from gtts) (7.0)\n",
      "Collecting gtts-token>=1.1.3\n",
      "  Downloading gTTS-token-1.1.3.tar.gz (3.4 kB)\n",
      "Requirement already satisfied: requests in c:\\users\\w10\\anaconda3\\lib\\site-packages (from gtts) (2.22.0)\n",
      "Requirement already satisfied: six in c:\\users\\w10\\anaconda3\\lib\\site-packages (from gtts) (1.12.0)\n",
      "Requirement already satisfied: soupsieve>=1.2 in c:\\users\\w10\\anaconda3\\lib\\site-packages (from beautifulsoup4->gtts) (1.9.3)\n",
      "Requirement already satisfied: idna<2.9,>=2.5 in c:\\users\\w10\\anaconda3\\lib\\site-packages (from requests->gtts) (2.8)\n",
      "Requirement already satisfied: chardet<3.1.0,>=3.0.2 in c:\\users\\w10\\anaconda3\\lib\\site-packages (from requests->gtts) (3.0.4)\n",
      "Requirement already satisfied: urllib3!=1.25.0,!=1.25.1,<1.26,>=1.21.1 in c:\\users\\w10\\anaconda3\\lib\\site-packages (from requests->gtts) (1.24.2)\n",
      "Requirement already satisfied: certifi>=2017.4.17 in c:\\users\\w10\\anaconda3\\lib\\site-packages (from requests->gtts) (2019.9.11)\n",
      "Building wheels for collected packages: gtts-token\n",
      "  Building wheel for gtts-token (setup.py): started\n",
      "  Building wheel for gtts-token (setup.py): finished with status 'done'\n",
      "  Created wheel for gtts-token: filename=gTTS_token-1.1.3-py3-none-any.whl size=4100 sha256=06fa61d049f3609daeb9cff606c84fff165ba778ef28b3c16a2a2671c311fb0f\n",
      "  Stored in directory: c:\\users\\w10\\appdata\\local\\pip\\cache\\wheels\\c1\\78\\25\\81270af5521d88ea8db7da5d4f64872673976eb9692bcb0c13\n",
      "Successfully built gtts-token\n",
      "Installing collected packages: gtts-token, gtts\n",
      "Successfully installed gtts-2.1.1 gtts-token-1.1.3\n",
      "Note: you may need to restart the kernel to use updated packages.\n"
     ]
    }
   ],
   "source": [
    "pip install gtts"
   ]
  },
  {
   "cell_type": "code",
   "execution_count": 4,
   "metadata": {},
   "outputs": [
    {
     "name": "stdout",
     "output_type": "stream",
     "text": [
      "Requirement already satisfied: gTTs in c:\\users\\w10\\anaconda3\\lib\\site-packages (2.1.1)\n",
      "Requirement already satisfied: beautifulsoup4 in c:\\users\\w10\\anaconda3\\lib\\site-packages (from gTTs) (4.8.0)\n",
      "Requirement already satisfied: requests in c:\\users\\w10\\anaconda3\\lib\\site-packages (from gTTs) (2.22.0)\n",
      "Requirement already satisfied: click in c:\\users\\w10\\anaconda3\\lib\\site-packages (from gTTs) (7.0)\n",
      "Requirement already satisfied: gtts-token>=1.1.3 in c:\\users\\w10\\anaconda3\\lib\\site-packages (from gTTs) (1.1.3)\n",
      "Requirement already satisfied: six in c:\\users\\w10\\anaconda3\\lib\\site-packages (from gTTs) (1.12.0)\n",
      "Requirement already satisfied: soupsieve>=1.2 in c:\\users\\w10\\anaconda3\\lib\\site-packages (from beautifulsoup4->gTTs) (1.9.3)\n",
      "Requirement already satisfied: certifi>=2017.4.17 in c:\\users\\w10\\anaconda3\\lib\\site-packages (from requests->gTTs) (2019.9.11)\n",
      "Requirement already satisfied: urllib3!=1.25.0,!=1.25.1,<1.26,>=1.21.1 in c:\\users\\w10\\anaconda3\\lib\\site-packages (from requests->gTTs) (1.24.2)\n",
      "Requirement already satisfied: idna<2.9,>=2.5 in c:\\users\\w10\\anaconda3\\lib\\site-packages (from requests->gTTs) (2.8)\n",
      "Requirement already satisfied: chardet<3.1.0,>=3.0.2 in c:\\users\\w10\\anaconda3\\lib\\site-packages (from requests->gTTs) (3.0.4)\n",
      "Note: you may need to restart the kernel to use updated packages.\n"
     ]
    }
   ],
   "source": [
    "pip install gTTs"
   ]
  },
  {
   "cell_type": "code",
   "execution_count": 6,
   "metadata": {},
   "outputs": [],
   "source": [
    "from gtts import gTTS\n",
    "import os"
   ]
  },
  {
   "cell_type": "code",
   "execution_count": 13,
   "metadata": {},
   "outputs": [
    {
     "ename": "NameError",
     "evalue": "name 'gTTs' is not defined",
     "output_type": "error",
     "traceback": [
      "\u001b[1;31m---------------------------------------------------------------------------\u001b[0m",
      "\u001b[1;31mNameError\u001b[0m                                 Traceback (most recent call last)",
      "\u001b[1;32m<ipython-input-13-0de901ad30c3>\u001b[0m in \u001b[0;36m<module>\u001b[1;34m\u001b[0m\n\u001b[0;32m      2\u001b[0m \u001b[0my\u001b[0m\u001b[1;33m=\u001b[0m \u001b[0mfile\u001b[0m\u001b[1;33m.\u001b[0m\u001b[0mread\u001b[0m\u001b[1;33m(\u001b[0m\u001b[1;33m)\u001b[0m\u001b[1;33m\u001b[0m\u001b[1;33m\u001b[0m\u001b[0m\n\u001b[0;32m      3\u001b[0m \u001b[0mlanguage\u001b[0m \u001b[1;33m=\u001b[0m \u001b[1;34m'en'\u001b[0m\u001b[1;33m\u001b[0m\u001b[1;33m\u001b[0m\u001b[0m\n\u001b[1;32m----> 4\u001b[1;33m \u001b[0maudio\u001b[0m\u001b[1;33m=\u001b[0m\u001b[0mgTTs\u001b[0m\u001b[1;33m(\u001b[0m\u001b[0mtext\u001b[0m\u001b[1;33m=\u001b[0m\u001b[0my\u001b[0m\u001b[1;33m,\u001b[0m\u001b[0mLang\u001b[0m\u001b[1;33m=\u001b[0m\u001b[0mlanguage\u001b[0m\u001b[1;33m,\u001b[0m\u001b[0mslow\u001b[0m\u001b[1;33m=\u001b[0m\u001b[1;32mFalse\u001b[0m\u001b[1;33m)\u001b[0m\u001b[1;33m\u001b[0m\u001b[1;33m\u001b[0m\u001b[0m\n\u001b[0m\u001b[0;32m      5\u001b[0m \u001b[0msudio\u001b[0m\u001b[1;33m.\u001b[0m\u001b[0msave\u001b[0m\u001b[1;33m(\u001b[0m\u001b[1;34m\"Audioo.wav\"\u001b[0m\u001b[1;33m)\u001b[0m\u001b[1;33m\u001b[0m\u001b[1;33m\u001b[0m\u001b[0m\n\u001b[0;32m      6\u001b[0m \u001b[0mos\u001b[0m\u001b[1;33m.\u001b[0m\u001b[0msystem\u001b[0m\u001b[1;33m(\u001b[0m\u001b[1;34m\"Audioo.wav\"\u001b[0m\u001b[1;33m)\u001b[0m\u001b[1;33m\u001b[0m\u001b[1;33m\u001b[0m\u001b[0m\n",
      "\u001b[1;31mNameError\u001b[0m: name 'gTTs' is not defined"
     ]
    }
   ],
   "source": [
    "file = open('vi.txt')\n",
    "y= file.read()\n",
    "language = 'en'\n",
    "audio=gTTs(text=y,Lang=language,slow=False)\n",
    "sudio.save(\"Audioo.wav\")\n",
    "os.system(\"Audioo.wav\")"
   ]
  },
  {
   "cell_type": "code",
   "execution_count": null,
   "metadata": {},
   "outputs": [],
   "source": []
  }
 ],
 "metadata": {
  "kernelspec": {
   "display_name": "Python 3",
   "language": "python",
   "name": "python3"
  },
  "language_info": {
   "codemirror_mode": {
    "name": "ipython",
    "version": 3
   },
   "file_extension": ".py",
   "mimetype": "text/x-python",
   "name": "python",
   "nbconvert_exporter": "python",
   "pygments_lexer": "ipython3",
   "version": "3.7.4"
  }
 },
 "nbformat": 4,
 "nbformat_minor": 2
}
